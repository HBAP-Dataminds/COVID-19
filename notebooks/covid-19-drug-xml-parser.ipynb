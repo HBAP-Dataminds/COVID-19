{
 "cells": [
  {
   "cell_type": "code",
   "execution_count": 1,
   "metadata": {},
   "outputs": [],
   "source": [
    "import xml.etree.ElementTree as etree\n",
    "import pandas as pd\n",
    "fname = \"full_database.xml\""
   ]
  },
  {
   "cell_type": "code",
   "execution_count": 2,
   "metadata": {},
   "outputs": [],
   "source": [
    "tree = etree.parse(fname)"
   ]
  },
  {
   "cell_type": "code",
   "execution_count": 9,
   "metadata": {},
   "outputs": [
    {
     "name": "stderr",
     "output_type": "stream",
     "text": [
      "/Users/mybiyani/opt/anaconda3/lib/python3.7/site-packages/ipykernel_launcher.py:1: DeprecationWarning: This method will be removed in future versions.  Use 'list(elem)' or iteration over elem instead.\n",
      "  \"\"\"Entry point for launching an IPython kernel.\n"
     ]
    },
    {
     "data": {
      "text/plain": [
       "13475"
      ]
     },
     "execution_count": 9,
     "metadata": {},
     "output_type": "execute_result"
    }
   ],
   "source": [
    "root = tree.getroot()\n",
    "len(root.getchildren())"
   ]
  },
  {
   "cell_type": "code",
   "execution_count": 54,
   "metadata": {},
   "outputs": [
    {
     "data": {
      "text/html": [
       "<div>\n",
       "<style scoped>\n",
       "    .dataframe tbody tr th:only-of-type {\n",
       "        vertical-align: middle;\n",
       "    }\n",
       "\n",
       "    .dataframe tbody tr th {\n",
       "        vertical-align: top;\n",
       "    }\n",
       "\n",
       "    .dataframe thead th {\n",
       "        text-align: right;\n",
       "    }\n",
       "</style>\n",
       "<table border=\"1\" class=\"dataframe\">\n",
       "  <thead>\n",
       "    <tr style=\"text-align: right;\">\n",
       "      <th></th>\n",
       "      <th>type</th>\n",
       "      <th>created</th>\n",
       "      <th>updated</th>\n",
       "      <th>drugbank-id</th>\n",
       "      <th>name</th>\n",
       "      <th>description</th>\n",
       "      <th>cas-number</th>\n",
       "      <th>unii</th>\n",
       "      <th>state</th>\n",
       "      <th>groups</th>\n",
       "      <th>...</th>\n",
       "      <th>reactions</th>\n",
       "      <th>snp-effects</th>\n",
       "      <th>snp-adverse-drug-reactions</th>\n",
       "      <th>targets</th>\n",
       "      <th>enzymes</th>\n",
       "      <th>carriers</th>\n",
       "      <th>transporters</th>\n",
       "      <th>average-mass</th>\n",
       "      <th>monoisotopic-mass</th>\n",
       "      <th>calculated-properties</th>\n",
       "    </tr>\n",
       "  </thead>\n",
       "  <tbody>\n",
       "    <tr>\n",
       "      <th>0</th>\n",
       "      <td>biotech</td>\n",
       "      <td>2005-06-13</td>\n",
       "      <td>2020-01-02</td>\n",
       "      <td>BIOD00024</td>\n",
       "      <td>Lepirudin</td>\n",
       "      <td>Lepirudin is identical to natural hirudin exce...</td>\n",
       "      <td>138068-37-8</td>\n",
       "      <td>Y43GF64R34</td>\n",
       "      <td>liquid</td>\n",
       "      <td>\\n</td>\n",
       "      <td>...</td>\n",
       "      <td>None</td>\n",
       "      <td>None</td>\n",
       "      <td>None</td>\n",
       "      <td>\\n</td>\n",
       "      <td>None</td>\n",
       "      <td>None</td>\n",
       "      <td>None</td>\n",
       "      <td>NaN</td>\n",
       "      <td>NaN</td>\n",
       "      <td>NaN</td>\n",
       "    </tr>\n",
       "    <tr>\n",
       "      <th>1</th>\n",
       "      <td>biotech</td>\n",
       "      <td>2005-06-13</td>\n",
       "      <td>2020-01-02</td>\n",
       "      <td>BIOD00071</td>\n",
       "      <td>Cetuximab</td>\n",
       "      <td>Cetuximab is an epidermal growth factor recept...</td>\n",
       "      <td>205923-56-4</td>\n",
       "      <td>PQX0D8J21J</td>\n",
       "      <td>liquid</td>\n",
       "      <td>\\n</td>\n",
       "      <td>...</td>\n",
       "      <td>None</td>\n",
       "      <td>\\n</td>\n",
       "      <td>None</td>\n",
       "      <td>\\n</td>\n",
       "      <td>None</td>\n",
       "      <td>None</td>\n",
       "      <td>None</td>\n",
       "      <td>NaN</td>\n",
       "      <td>NaN</td>\n",
       "      <td>NaN</td>\n",
       "    </tr>\n",
       "    <tr>\n",
       "      <th>2</th>\n",
       "      <td>biotech</td>\n",
       "      <td>2005-06-13</td>\n",
       "      <td>2020-01-02</td>\n",
       "      <td>BIOD00001</td>\n",
       "      <td>Dornase alfa</td>\n",
       "      <td>Dornase alfa is a biosynthetic form of human d...</td>\n",
       "      <td>143831-71-4</td>\n",
       "      <td>953A26OA1Y</td>\n",
       "      <td>liquid</td>\n",
       "      <td>\\n</td>\n",
       "      <td>...</td>\n",
       "      <td>None</td>\n",
       "      <td>None</td>\n",
       "      <td>None</td>\n",
       "      <td>\\n</td>\n",
       "      <td>None</td>\n",
       "      <td>None</td>\n",
       "      <td>None</td>\n",
       "      <td>NaN</td>\n",
       "      <td>NaN</td>\n",
       "      <td>NaN</td>\n",
       "    </tr>\n",
       "    <tr>\n",
       "      <th>3</th>\n",
       "      <td>biotech</td>\n",
       "      <td>2005-06-13</td>\n",
       "      <td>2020-01-02</td>\n",
       "      <td>BIOD00084</td>\n",
       "      <td>Denileukin diftitox</td>\n",
       "      <td>A recombinant DNA-derived cytotoxic protein co...</td>\n",
       "      <td>173146-27-5</td>\n",
       "      <td>25E79B5CTM</td>\n",
       "      <td>liquid</td>\n",
       "      <td>\\n</td>\n",
       "      <td>...</td>\n",
       "      <td>None</td>\n",
       "      <td>None</td>\n",
       "      <td>None</td>\n",
       "      <td>\\n</td>\n",
       "      <td>None</td>\n",
       "      <td>None</td>\n",
       "      <td>None</td>\n",
       "      <td>NaN</td>\n",
       "      <td>NaN</td>\n",
       "      <td>NaN</td>\n",
       "    </tr>\n",
       "    <tr>\n",
       "      <th>4</th>\n",
       "      <td>biotech</td>\n",
       "      <td>2005-06-13</td>\n",
       "      <td>2020-01-02</td>\n",
       "      <td>BIOD00052</td>\n",
       "      <td>Etanercept</td>\n",
       "      <td>Dimeric fusion protein consisting of the extra...</td>\n",
       "      <td>185243-69-0</td>\n",
       "      <td>OP401G7OJC</td>\n",
       "      <td>liquid</td>\n",
       "      <td>\\n</td>\n",
       "      <td>...</td>\n",
       "      <td>None</td>\n",
       "      <td>None</td>\n",
       "      <td>None</td>\n",
       "      <td>\\n</td>\n",
       "      <td>None</td>\n",
       "      <td>None</td>\n",
       "      <td>None</td>\n",
       "      <td>NaN</td>\n",
       "      <td>NaN</td>\n",
       "      <td>NaN</td>\n",
       "    </tr>\n",
       "  </tbody>\n",
       "</table>\n",
       "<p>5 rows × 58 columns</p>\n",
       "</div>"
      ],
      "text/plain": [
       "      type     created     updated drugbank-id                 name  \\\n",
       "0  biotech  2005-06-13  2020-01-02   BIOD00024            Lepirudin   \n",
       "1  biotech  2005-06-13  2020-01-02   BIOD00071            Cetuximab   \n",
       "2  biotech  2005-06-13  2020-01-02   BIOD00001         Dornase alfa   \n",
       "3  biotech  2005-06-13  2020-01-02   BIOD00084  Denileukin diftitox   \n",
       "4  biotech  2005-06-13  2020-01-02   BIOD00052           Etanercept   \n",
       "\n",
       "                                         description   cas-number        unii  \\\n",
       "0  Lepirudin is identical to natural hirudin exce...  138068-37-8  Y43GF64R34   \n",
       "1  Cetuximab is an epidermal growth factor recept...  205923-56-4  PQX0D8J21J   \n",
       "2  Dornase alfa is a biosynthetic form of human d...  143831-71-4  953A26OA1Y   \n",
       "3  A recombinant DNA-derived cytotoxic protein co...  173146-27-5  25E79B5CTM   \n",
       "4  Dimeric fusion protein consisting of the extra...  185243-69-0  OP401G7OJC   \n",
       "\n",
       "    state  groups  ... reactions snp-effects snp-adverse-drug-reactions  \\\n",
       "0  liquid  \\n      ...      None        None                       None   \n",
       "1  liquid  \\n      ...      None      \\n                           None   \n",
       "2  liquid  \\n      ...      None        None                       None   \n",
       "3  liquid  \\n      ...      None        None                       None   \n",
       "4  liquid  \\n      ...      None        None                       None   \n",
       "\n",
       "  targets enzymes carriers transporters average-mass monoisotopic-mass  \\\n",
       "0  \\n        None     None         None          NaN               NaN   \n",
       "1  \\n        None     None         None          NaN               NaN   \n",
       "2  \\n        None     None         None          NaN               NaN   \n",
       "3  \\n        None     None         None          NaN               NaN   \n",
       "4  \\n        None     None         None          NaN               NaN   \n",
       "\n",
       "  calculated-properties  \n",
       "0                   NaN  \n",
       "1                   NaN  \n",
       "2                   NaN  \n",
       "3                   NaN  \n",
       "4                   NaN  \n",
       "\n",
       "[5 rows x 58 columns]"
      ]
     },
     "execution_count": 54,
     "metadata": {},
     "output_type": "execute_result"
    }
   ],
   "source": [
    "tags = {\"tags\":[]}\n",
    "for drug in root:\n",
    "    tag = {}  \n",
    "    tag[\"type\"] = drug.attrib['type']\n",
    "    tag[\"created\"] = drug.attrib['created']\n",
    "    tag[\"updated\"] = drug.attrib['updated']\n",
    "    for  k in list(drug):\n",
    "        tag_name = k.tag.split('}')[1]\n",
    "        tag[tag_name]= k.text\n",
    "    tags[\"tags\"]. append(tag)    \n",
    "df_drugs = pd.DataFrame(tags[\"tags\"])\n",
    "df_drugs.head()"
   ]
  },
  {
   "cell_type": "code",
   "execution_count": 55,
   "metadata": {},
   "outputs": [
    {
     "data": {
      "text/plain": [
       "(13475, 58)"
      ]
     },
     "execution_count": 55,
     "metadata": {},
     "output_type": "execute_result"
    }
   ],
   "source": [
    "df_drugs.shape"
   ]
  },
  {
   "cell_type": "code",
   "execution_count": 56,
   "metadata": {},
   "outputs": [],
   "source": [
    "df_drugs.to_csv(\"drugs.csv\", index=False)"
   ]
  },
  {
   "cell_type": "markdown",
   "metadata": {},
   "source": [
    "###. References\n",
    "\n",
    "https://docs.python.org/2/library/xml.etree.elementtree.html#xml.etree.ElementTree.Element"
   ]
  }
 ],
 "metadata": {
  "kernelspec": {
   "display_name": "Python 3",
   "language": "python",
   "name": "python3"
  },
  "language_info": {
   "codemirror_mode": {
    "name": "ipython",
    "version": 3
   },
   "file_extension": ".py",
   "mimetype": "text/x-python",
   "name": "python",
   "nbconvert_exporter": "python",
   "pygments_lexer": "ipython3",
   "version": "3.7.4"
  }
 },
 "nbformat": 4,
 "nbformat_minor": 2
}
