{
 "cells": [
  {
   "cell_type": "markdown",
   "metadata": {},
   "source": [
    "# Import packages"
   ]
  },
  {
   "cell_type": "code",
   "execution_count": 20,
   "metadata": {
    "ExecuteTime": {
     "end_time": "2020-05-01T19:28:28.395398Z",
     "start_time": "2020-05-01T19:28:20.773402Z"
    }
   },
   "outputs": [
    {
     "name": "stderr",
     "output_type": "stream",
     "text": [
      "C:\\ProgramData\\Anaconda3\\lib\\site-packages\\tqdm\\std.py:658: FutureWarning: The Panel class is removed from pandas. Accessing it from the top-level namespace will also be removed in the next version\n",
      "  from pandas import Panel\n"
     ]
    }
   ],
   "source": [
    "import re\n",
    "from textblob import TextBlob\n",
    "import numpy as np\n",
    "np.set_printoptions(linewidth=110)\n",
    "import pandas as pd \n",
    "import random\n",
    "import string\n",
    "from tqdm import tqdm, tqdm_notebook\n",
    "import os\n",
    "import json\n",
    "import sys\n",
    "import spacy\n",
    "import scispacy  # https://allenai.github.io/scispacy/\n",
    "spacy.prefer_gpu()\n",
    "from spacy import displacy\n",
    "nlp = spacy.load(\"en_ner_bionlp13cg_md\")\n",
    "sys.path.insert(0, \"../\")\n",
    "from tqdm import tqdm, tqdm_notebook\n",
    "tqdm.pandas(tqdm_notebook)\n",
    "import uuid\n",
    "\n",
    "from IPython.core.display import display, HTML\n",
    "# display(HTML(\"<style>.container { width:100% !important; }</style>\"))\n",
    "# display(HTML(\"<style>.output_result { max-width:100% !important; }</style>\"))"
   ]
  },
  {
   "cell_type": "markdown",
   "metadata": {},
   "source": [
    "# Load data from CDC and start processing for NER"
   ]
  },
  {
   "cell_type": "code",
   "execution_count": 13,
   "metadata": {
    "ExecuteTime": {
     "end_time": "2020-05-01T16:55:05.144423Z",
     "start_time": "2020-05-01T16:55:05.136410Z"
    }
   },
   "outputs": [],
   "source": [
    "df=pd.read_csv('D:/GitHub/COVID-19/data/CDC/All_Articles_Excel_trim15.csv',encoding='ISO-8859-1', usecols=[\"Abstract\",\"Title\",\"Author\",\"Journal\",\"Year\",\"Name of Database\"])"
   ]
  },
  {
   "cell_type": "code",
   "execution_count": 3,
   "metadata": {
    "ExecuteTime": {
     "end_time": "2020-05-01T16:46:31.081560Z",
     "start_time": "2020-05-01T16:46:31.075574Z"
    }
   },
   "outputs": [],
   "source": [
    "df=pd.read_csv('D:/GitHub/COVID-19/data/CDC/All_Articles_Excel_trim3.csv',encoding='ISO-8859-1', usecols=[\"Abstract\",\"Title\"])"
   ]
  },
  {
   "cell_type": "code",
   "execution_count": 4,
   "metadata": {
    "ExecuteTime": {
     "end_time": "2020-05-01T16:46:31.102558Z",
     "start_time": "2020-05-01T16:46:31.083557Z"
    }
   },
   "outputs": [
    {
     "data": {
      "text/plain": [
       "(4, 2)"
      ]
     },
     "execution_count": 4,
     "metadata": {},
     "output_type": "execute_result"
    }
   ],
   "source": [
    "#Count the articls we have\n",
    "df.shape"
   ]
  },
  {
   "cell_type": "code",
   "execution_count": 5,
   "metadata": {
    "ExecuteTime": {
     "end_time": "2020-05-01T16:46:31.129560Z",
     "start_time": "2020-05-01T16:46:31.104559Z"
    }
   },
   "outputs": [
    {
     "data": {
      "text/plain": [
       "(3, 2)"
      ]
     },
     "execution_count": 5,
     "metadata": {},
     "output_type": "execute_result"
    }
   ],
   "source": [
    "# remove articles that do no have an Abstract since that is what we are using for NER\n",
    "df = df[df['Abstract'].notna()]\n",
    "df.shape"
   ]
  },
  {
   "cell_type": "code",
   "execution_count": 14,
   "metadata": {
    "ExecuteTime": {
     "end_time": "2020-05-01T16:55:07.271417Z",
     "start_time": "2020-05-01T16:55:07.261569Z"
    }
   },
   "outputs": [
    {
     "data": {
      "text/html": [
       "<div>\n",
       "<style scoped>\n",
       "    .dataframe tbody tr th:only-of-type {\n",
       "        vertical-align: middle;\n",
       "    }\n",
       "\n",
       "    .dataframe tbody tr th {\n",
       "        vertical-align: top;\n",
       "    }\n",
       "\n",
       "    .dataframe thead th {\n",
       "        text-align: right;\n",
       "    }\n",
       "</style>\n",
       "<table border=\"1\" class=\"dataframe\">\n",
       "  <thead>\n",
       "    <tr style=\"text-align: right;\">\n",
       "      <th></th>\n",
       "      <th>Author</th>\n",
       "      <th>Title</th>\n",
       "      <th>Abstract</th>\n",
       "      <th>Year</th>\n",
       "      <th>Journal</th>\n",
       "      <th>Name of Database</th>\n",
       "    </tr>\n",
       "  </thead>\n",
       "  <tbody>\n",
       "    <tr>\n",
       "      <td>0</td>\n",
       "      <td>ç¨ç</td>\n",
       "      <td>COVID-19æ¯ä¸é»é©å½ç",
       "æ¯ãèå»¶æ¼åç·...</td>\n",
       "      <td>NaN</td>\n",
       "      <td>2020</td>\n",
       "      <td>æµ·å³½è©è«</td>\n",
       "      <td>World Health Organization</td>\n",
       "    </tr>\n",
       "    <tr>\n",
       "      <td>1</td>\n",
       "      <td>Zuoru, LM, Pang; Xinping, Yang; Jie, Li; Yufei...</td>\n",
       "      <td>Weekly Assessment of the COVID-19 Pandemic and...</td>\n",
       "      <td>NaN</td>\n",
       "      <td>2020</td>\n",
       "      <td>China CDC Weekly</td>\n",
       "      <td>China CDC Weekly</td>\n",
       "    </tr>\n",
       "    <tr>\n",
       "      <td>2</td>\n",
       "      <td>Zuckier, LSG, Sharon R.</td>\n",
       "      <td>Pain Management Under COVID-19 COVID-19 in the...</td>\n",
       "      <td>NaN</td>\n",
       "      <td>2020</td>\n",
       "      <td>Topics in Pain Management</td>\n",
       "      <td>World Health Organization</td>\n",
       "    </tr>\n",
       "    <tr>\n",
       "      <td>3</td>\n",
       "      <td>Zong, YD, M. L.; Ma, S. T.; Ju, W. Z.</td>\n",
       "      <td>Investigation of potential Chinese materia med...</td>\n",
       "      <td>Objective: To investigate the mechanism of tre...</td>\n",
       "      <td>2020</td>\n",
       "      <td>Chinese Traditional and Herbal Drugs</td>\n",
       "      <td>World Health Organization</td>\n",
       "    </tr>\n",
       "    <tr>\n",
       "      <td>4</td>\n",
       "      <td>Zimmermann, GW</td>\n",
       "      <td>Coronavirus: Protective clothing will be centr...</td>\n",
       "      <td>NaN</td>\n",
       "      <td>2020</td>\n",
       "      <td>MMW-Fortschritte der Medizin</td>\n",
       "      <td>Scopus</td>\n",
       "    </tr>\n",
       "  </tbody>\n",
       "</table>\n",
       "</div>"
      ],
      "text/plain": [
       "                                              Author  \\\n",
       "0                                             ç¨ç   \n",
       "1  Zuoru, LM, Pang; Xinping, Yang; Jie, Li; Yufei...   \n",
       "2                            Zuckier, LSG, Sharon R.   \n",
       "3              Zong, YD, M. L.; Ma, S. T.; Ju, W. Z.   \n",
       "4                                     Zimmermann, GW   \n",
       "\n",
       "                                               Title  \\\n",
       "0  COVID-19æ¯ä¸é»é©å½ç\n",
       "æ¯ãèå»¶æ¼åç·...   \n",
       "1  Weekly Assessment of the COVID-19 Pandemic and...   \n",
       "2  Pain Management Under COVID-19 COVID-19 in the...   \n",
       "3  Investigation of potential Chinese materia med...   \n",
       "4  Coronavirus: Protective clothing will be centr...   \n",
       "\n",
       "                                            Abstract  Year  \\\n",
       "0                                                NaN  2020   \n",
       "1                                                NaN  2020   \n",
       "2                                                NaN  2020   \n",
       "3  Objective: To investigate the mechanism of tre...  2020   \n",
       "4                                                NaN  2020   \n",
       "\n",
       "                                Journal           Name of Database  \n",
       "0                          æµ·å³½è©è«  World Health Organization  \n",
       "1                      China CDC Weekly           China CDC Weekly  \n",
       "2             Topics in Pain Management  World Health Organization  \n",
       "3  Chinese Traditional and Herbal Drugs  World Health Organization  \n",
       "4          MMW-Fortschritte der Medizin                     Scopus  "
      ]
     },
     "execution_count": 14,
     "metadata": {},
     "output_type": "execute_result"
    }
   ],
   "source": [
    "df.head()"
   ]
  },
  {
   "cell_type": "code",
   "execution_count": 7,
   "metadata": {
    "ExecuteTime": {
     "end_time": "2020-05-01T16:46:31.193571Z",
     "start_time": "2020-05-01T16:46:31.167559Z"
    }
   },
   "outputs": [],
   "source": [
    "df['uuid'] = df.apply(lambda x: uuid.uuid1(), axis=1)"
   ]
  },
  {
   "cell_type": "code",
   "execution_count": 8,
   "metadata": {
    "ExecuteTime": {
     "end_time": "2020-05-01T16:46:31.207556Z",
     "start_time": "2020-05-01T16:46:31.196554Z"
    }
   },
   "outputs": [
    {
     "data": {
      "text/html": [
       "<div>\n",
       "<style scoped>\n",
       "    .dataframe tbody tr th:only-of-type {\n",
       "        vertical-align: middle;\n",
       "    }\n",
       "\n",
       "    .dataframe tbody tr th {\n",
       "        vertical-align: top;\n",
       "    }\n",
       "\n",
       "    .dataframe thead th {\n",
       "        text-align: right;\n",
       "    }\n",
       "</style>\n",
       "<table border=\"1\" class=\"dataframe\">\n",
       "  <thead>\n",
       "    <tr style=\"text-align: right;\">\n",
       "      <th></th>\n",
       "      <th>Title</th>\n",
       "      <th>Abstract</th>\n",
       "      <th>uuid</th>\n",
       "    </tr>\n",
       "  </thead>\n",
       "  <tbody>\n",
       "    <tr>\n",
       "      <td>0</td>\n",
       "      <td>Preliminary study of traditional Chinese medic...</td>\n",
       "      <td>this is an abstract talking about COVID-19</td>\n",
       "      <td>4f37931a-8bcb-11ea-970d-104a7d4533bd</td>\n",
       "    </tr>\n",
       "    <tr>\n",
       "      <td>2</td>\n",
       "      <td>CT scans of patients with 2019 novel coronavir...</td>\n",
       "      <td>here is another abstract COVID-19 and the ACE2...</td>\n",
       "      <td>4f37ba18-8bcb-11ea-8bab-104a7d4533bd</td>\n",
       "    </tr>\n",
       "    <tr>\n",
       "      <td>3</td>\n",
       "      <td>Geographical Distance to the Epicenter of Covi...</td>\n",
       "      <td>finally, the last abstract talking about liver...</td>\n",
       "      <td>4f37ba19-8bcb-11ea-bc0b-104a7d4533bd</td>\n",
       "    </tr>\n",
       "  </tbody>\n",
       "</table>\n",
       "</div>"
      ],
      "text/plain": [
       "                                               Title  \\\n",
       "0  Preliminary study of traditional Chinese medic...   \n",
       "2  CT scans of patients with 2019 novel coronavir...   \n",
       "3  Geographical Distance to the Epicenter of Covi...   \n",
       "\n",
       "                                            Abstract  \\\n",
       "0         this is an abstract talking about COVID-19   \n",
       "2  here is another abstract COVID-19 and the ACE2...   \n",
       "3  finally, the last abstract talking about liver...   \n",
       "\n",
       "                                   uuid  \n",
       "0  4f37931a-8bcb-11ea-970d-104a7d4533bd  \n",
       "2  4f37ba18-8bcb-11ea-8bab-104a7d4533bd  \n",
       "3  4f37ba19-8bcb-11ea-bc0b-104a7d4533bd  "
      ]
     },
     "execution_count": 8,
     "metadata": {},
     "output_type": "execute_result"
    }
   ],
   "source": [
    "df.head()"
   ]
  },
  {
   "cell_type": "markdown",
   "metadata": {},
   "source": [
    "## Visualize Bio-Medical entities "
   ]
  },
  {
   "cell_type": "code",
   "execution_count": 9,
   "metadata": {
    "ExecuteTime": {
     "end_time": "2020-05-01T16:46:31.226560Z",
     "start_time": "2020-05-01T16:46:31.209557Z"
    },
    "code_folding": [
     0
    ]
   },
   "outputs": [],
   "source": [
    "# This function will allow us to randomly color the bio-medical entities that teh spacy NER model finds.\n",
    "# THis is mainly for display purposes\n",
    "import random \n",
    "\n",
    "def get_entity_options(random_colors=False):\n",
    "    \"\"\"\n",
    "    generating color options for visualizing the named entities\n",
    "    \"\"\"\n",
    "    def color_generator(number_of_colors):\n",
    "        color = [\"#\"+''.join([random.choice('0123456789ABCDEF') for j in range(6)])\n",
    "                 for i in range(number_of_colors)]\n",
    "        return color\n",
    "\n",
    "    entities = [\"GGP\", \"SO\", \"TAXON\", \"CHEBI\", \"GO\", \"CL\", \n",
    "                \"DNA\", \"CELL_TYPE\", \"CELL_LINE\", \"RNA\", \"PROTEIN\",\n",
    "                \"DISEASE\", \"CHEMICAL\",\n",
    "                \"CANCER\", \"ORGAN\", \"TISSUE\", \"ORGANISM\", \"CELL\", \n",
    "                \"AMINO_ACID\", \"GENE_OR_GENE_PRODUCT\", \"SIMPLE_CHEMICAL\", \n",
    "                \"ANATOMICAL_SYSTEM\", \"IMMATERIAL_ANATOMICAL_ENTITY\", \"MULTI-TISSUE_STRUCTURE\",\n",
    "                \"DEVELOPING_ANATOMICAL_STRUCTURE\", \"ORGANISM_SUBDIVISION\", \"CELLULAR_COMPONENT\"]\n",
    "    \n",
    "    colors = {\"ENT\":\"#82E0AA\"}\n",
    "    \n",
    "    if random_colors:\n",
    "        color = color_generator(len(entities))\n",
    "        for i in range(len(entities)):\n",
    "            colors[entities[i]] = color[i]\n",
    "    else:\n",
    "        entities_cat_1 = {\"GGP\":\"#F9E79F\", \"SO\":\"#F7DC6F\", \"TAXON\":\"#F4D03F\", \"CHEBI\":\"#FAD7A0\", \"GO\":\"#F8C471\", \"CL\":\"#F5B041\"}\n",
    "        entities_cat_2 = {\"DNA\":\"#82E0AA\", \"CELL_TYPE\":\"#AED6F1\", \"CELL_LINE\":\"#E8DAEF\", \"RNA\":\"#82E0AA\", \"PROTEIN\":\"#82E0AA\"}\n",
    "        entities_cat_3 = {\"DISEASE\":\"#D7BDE2\", \"CHEMICAL\":\"#D2B4DE\"}\n",
    "        entities_cat_4 = {\"CANCER\":\"#ABEBC6\", \"ORGAN\":\"#82E0AA\", \"TISSUE\":\"#A9DFBF\", \"ORGANISM\":\"#A2D9CE\", \"CELL\":\"#76D7C4\", \"AMINO_ACID\":\"#85C1E9\", \"GENE_OR_GENE_PRODUCT\":\"#AED6F1\", \"SIMPLE_CHEMICAL\":\"#76D7C4\", \"ANATOMICAL_SYSTEM\":\"#82E0AA\", \"IMMATERIAL_ANATOMICAL_ENTITY\":\"#A2D9CE\", \"MULTI-TISSUE_STRUCTURE\":\"#85C1E9\", \"DEVELOPING_ANATOMICAL_STRUCTURE\":\"#A9DFBF\", \"ORGANISM_SUBDIVISION\":\"#58D68D\", \"CELLULAR_COMPONENT\":\"#7FB3D5\"}\n",
    "\n",
    "        entities_cats = [entities_cat_1, entities_cat_2, entities_cat_3, entities_cat_4]\n",
    "        for item in entities_cats:\n",
    "            colors = {**colors, **item}\n",
    "    \n",
    "    options = {\"ents\": entities, \"colors\": colors}\n",
    "    \n",
    "    return options"
   ]
  },
  {
   "cell_type": "code",
   "execution_count": 15,
   "metadata": {
    "ExecuteTime": {
     "end_time": "2020-05-01T19:21:52.443946Z",
     "start_time": "2020-05-01T19:21:52.439946Z"
    }
   },
   "outputs": [],
   "source": [
    "# Text block for NER testing\n",
    "text_test = str(\"Angiotensin-converting enzyme 2 ( ACE2 ) as aSARS-CoV-2 receptor: molecular mechanisms and potential therapeutic target.SARS-CoV-2 has been sequenced [ 3  ] . A phylogenetic’ analysis [ 3  , 4  ] found a bat origin for the SARS-CoV-2  . There is a diversity of possible intermediate hosts for SARS-CoV-2  , including pangolins  , but not Mice and rats) | 5  | . There are many similarities of SARS-CoV-2 with the original SARS-CoV  . Using computer modeling , Xu et al . [ 6 |] found that the spike proteins  of SARS-CoV-2 and SARS-CoV  have almost identical 3-D structures in thereceptor binding domain that maintains Van der Waals forces . SARS-CoV spike proteins  has a strong binding affinity to human ACE2 , based on biochemical interaction studies and crystal structure analysis [7  ] . SARS-CoV-2  and SARS-CoV spike proteins share identity in amino acid sequences and ...... \")"
   ]
  },
  {
   "cell_type": "code",
   "execution_count": 19,
   "metadata": {
    "ExecuteTime": {
     "end_time": "2020-05-01T19:24:36.554504Z",
     "start_time": "2020-05-01T19:24:29.104502Z"
    }
   },
   "outputs": [
    {
     "data": {
      "text/html": [
       "<span class=\"tex2jax_ignore\"><div class=\"entities\" style=\"line-height: 2.5; direction: ltr\">\n",
       "<mark class=\"entity\" style=\"background: #B2630C; padding: 0.45em 0.6em; margin: 0 0.25em; line-height: 1; border-radius: 0.35em;\">\n",
       "    Angiotensin-converting enzyme 2\n",
       "    <span style=\"font-size: 0.8em; font-weight: bold; line-height: 1; border-radius: 0.35em; text-transform: uppercase; vertical-align: middle; margin-left: 0.5rem\">GENE_OR_GENE_PRODUCT</span>\n",
       "</mark>\n",
       " ( \n",
       "<mark class=\"entity\" style=\"background: #B2630C; padding: 0.45em 0.6em; margin: 0 0.25em; line-height: 1; border-radius: 0.35em;\">\n",
       "    ACE2\n",
       "    <span style=\"font-size: 0.8em; font-weight: bold; line-height: 1; border-radius: 0.35em; text-transform: uppercase; vertical-align: middle; margin-left: 0.5rem\">GENE_OR_GENE_PRODUCT</span>\n",
       "</mark>\n",
       " ) as \n",
       "<mark class=\"entity\" style=\"background: #B2630C; padding: 0.45em 0.6em; margin: 0 0.25em; line-height: 1; border-radius: 0.35em;\">\n",
       "    aSARS-CoV-2 receptor\n",
       "    <span style=\"font-size: 0.8em; font-weight: bold; line-height: 1; border-radius: 0.35em; text-transform: uppercase; vertical-align: middle; margin-left: 0.5rem\">GENE_OR_GENE_PRODUCT</span>\n",
       "</mark>\n",
       ": molecular mechanisms and potential therapeutic target.\n",
       "<mark class=\"entity\" style=\"background: #A695DA; padding: 0.45em 0.6em; margin: 0 0.25em; line-height: 1; border-radius: 0.35em;\">\n",
       "    SARS-CoV-2\n",
       "    <span style=\"font-size: 0.8em; font-weight: bold; line-height: 1; border-radius: 0.35em; text-transform: uppercase; vertical-align: middle; margin-left: 0.5rem\">ORGANISM</span>\n",
       "</mark>\n",
       " has been sequenced [ 3  ] . A phylogenetic’ analysis [ 3  , 4  ] found a bat origin for \n",
       "<mark class=\"entity\" style=\"background: #DDC402; padding: 0.45em 0.6em; margin: 0 0.25em; line-height: 1; border-radius: 0.35em;\">\n",
       "    theSARS-CoV-2\n",
       "    <span style=\"font-size: 0.8em; font-weight: bold; line-height: 1; border-radius: 0.35em; text-transform: uppercase; vertical-align: middle; margin-left: 0.5rem\">SIMPLE_CHEMICAL</span>\n",
       "</mark>\n",
       "  . There is a diversity of possible intermediate hosts for \n",
       "<mark class=\"entity\" style=\"background: #A695DA; padding: 0.45em 0.6em; margin: 0 0.25em; line-height: 1; border-radius: 0.35em;\">\n",
       "    SARS-CoV-2\n",
       "    <span style=\"font-size: 0.8em; font-weight: bold; line-height: 1; border-radius: 0.35em; text-transform: uppercase; vertical-align: middle; margin-left: 0.5rem\">ORGANISM</span>\n",
       "</mark>\n",
       "  , including \n",
       "<mark class=\"entity\" style=\"background: #A695DA; padding: 0.45em 0.6em; margin: 0 0.25em; line-height: 1; border-radius: 0.35em;\">\n",
       "    pangolins\n",
       "    <span style=\"font-size: 0.8em; font-weight: bold; line-height: 1; border-radius: 0.35em; text-transform: uppercase; vertical-align: middle; margin-left: 0.5rem\">ORGANISM</span>\n",
       "</mark>\n",
       "  , but not \n",
       "<mark class=\"entity\" style=\"background: #A695DA; padding: 0.45em 0.6em; margin: 0 0.25em; line-height: 1; border-radius: 0.35em;\">\n",
       "    Mice\n",
       "    <span style=\"font-size: 0.8em; font-weight: bold; line-height: 1; border-radius: 0.35em; text-transform: uppercase; vertical-align: middle; margin-left: 0.5rem\">ORGANISM</span>\n",
       "</mark>\n",
       " and \n",
       "<mark class=\"entity\" style=\"background: #A695DA; padding: 0.45em 0.6em; margin: 0 0.25em; line-height: 1; border-radius: 0.35em;\">\n",
       "    rats\n",
       "    <span style=\"font-size: 0.8em; font-weight: bold; line-height: 1; border-radius: 0.35em; text-transform: uppercase; vertical-align: middle; margin-left: 0.5rem\">ORGANISM</span>\n",
       "</mark>\n",
       ") | 5  | . There are many similarities of \n",
       "<mark class=\"entity\" style=\"background: #A695DA; padding: 0.45em 0.6em; margin: 0 0.25em; line-height: 1; border-radius: 0.35em;\">\n",
       "    SARS-CoV-2\n",
       "    <span style=\"font-size: 0.8em; font-weight: bold; line-height: 1; border-radius: 0.35em; text-transform: uppercase; vertical-align: middle; margin-left: 0.5rem\">ORGANISM</span>\n",
       "</mark>\n",
       " with the original \n",
       "<mark class=\"entity\" style=\"background: #A695DA; padding: 0.45em 0.6em; margin: 0 0.25em; line-height: 1; border-radius: 0.35em;\">\n",
       "    SARS-CoV\n",
       "    <span style=\"font-size: 0.8em; font-weight: bold; line-height: 1; border-radius: 0.35em; text-transform: uppercase; vertical-align: middle; margin-left: 0.5rem\">ORGANISM</span>\n",
       "</mark>\n",
       "  . Using computer modeling , Xu et al . [ 6 |] found that the spike proteins  of \n",
       "<mark class=\"entity\" style=\"background: #A695DA; padding: 0.45em 0.6em; margin: 0 0.25em; line-height: 1; border-radius: 0.35em;\">\n",
       "    SARS-CoV-2\n",
       "    <span style=\"font-size: 0.8em; font-weight: bold; line-height: 1; border-radius: 0.35em; text-transform: uppercase; vertical-align: middle; margin-left: 0.5rem\">ORGANISM</span>\n",
       "</mark>\n",
       " and \n",
       "<mark class=\"entity\" style=\"background: #A695DA; padding: 0.45em 0.6em; margin: 0 0.25em; line-height: 1; border-radius: 0.35em;\">\n",
       "    SARS-CoV\n",
       "    <span style=\"font-size: 0.8em; font-weight: bold; line-height: 1; border-radius: 0.35em; text-transform: uppercase; vertical-align: middle; margin-left: 0.5rem\">ORGANISM</span>\n",
       "</mark>\n",
       "  have almost identical 3-D structures in thereceptor binding domain that maintains \n",
       "<mark class=\"entity\" style=\"background: #A695DA; padding: 0.45em 0.6em; margin: 0 0.25em; line-height: 1; border-radius: 0.35em;\">\n",
       "    Van der Waals forces\n",
       "    <span style=\"font-size: 0.8em; font-weight: bold; line-height: 1; border-radius: 0.35em; text-transform: uppercase; vertical-align: middle; margin-left: 0.5rem\">ORGANISM</span>\n",
       "</mark>\n",
       " . \n",
       "<mark class=\"entity\" style=\"background: #A695DA; padding: 0.45em 0.6em; margin: 0 0.25em; line-height: 1; border-radius: 0.35em;\">\n",
       "    SARS-CoV\n",
       "    <span style=\"font-size: 0.8em; font-weight: bold; line-height: 1; border-radius: 0.35em; text-transform: uppercase; vertical-align: middle; margin-left: 0.5rem\">ORGANISM</span>\n",
       "</mark>\n",
       " spike proteins  has a strong binding affinity to \n",
       "<mark class=\"entity\" style=\"background: #A695DA; padding: 0.45em 0.6em; margin: 0 0.25em; line-height: 1; border-radius: 0.35em;\">\n",
       "    human ACE2\n",
       "    <span style=\"font-size: 0.8em; font-weight: bold; line-height: 1; border-radius: 0.35em; text-transform: uppercase; vertical-align: middle; margin-left: 0.5rem\">ORGANISM</span>\n",
       "</mark>\n",
       " , based on biochemical interaction studies and crystal structure analysis [7  ] . \n",
       "<mark class=\"entity\" style=\"background: #A695DA; padding: 0.45em 0.6em; margin: 0 0.25em; line-height: 1; border-radius: 0.35em;\">\n",
       "    SARS-CoV-2\n",
       "    <span style=\"font-size: 0.8em; font-weight: bold; line-height: 1; border-radius: 0.35em; text-transform: uppercase; vertical-align: middle; margin-left: 0.5rem\">ORGANISM</span>\n",
       "</mark>\n",
       "  and \n",
       "<mark class=\"entity\" style=\"background: #A695DA; padding: 0.45em 0.6em; margin: 0 0.25em; line-height: 1; border-radius: 0.35em;\">\n",
       "    SARS-CoV\n",
       "    <span style=\"font-size: 0.8em; font-weight: bold; line-height: 1; border-radius: 0.35em; text-transform: uppercase; vertical-align: middle; margin-left: 0.5rem\">ORGANISM</span>\n",
       "</mark>\n",
       " spike proteins share identity in \n",
       "<mark class=\"entity\" style=\"background: #B1CCAD; padding: 0.45em 0.6em; margin: 0 0.25em; line-height: 1; border-radius: 0.35em;\">\n",
       "    amino acid\n",
       "    <span style=\"font-size: 0.8em; font-weight: bold; line-height: 1; border-radius: 0.35em; text-transform: uppercase; vertical-align: middle; margin-left: 0.5rem\">AMINO_ACID</span>\n",
       "</mark>\n",
       " sequences and \n",
       "<mark class=\"entity\" style=\"background: #DDC402; padding: 0.45em 0.6em; margin: 0 0.25em; line-height: 1; border-radius: 0.35em;\">\n",
       "    ......\n",
       "    <span style=\"font-size: 0.8em; font-weight: bold; line-height: 1; border-radius: 0.35em; text-transform: uppercase; vertical-align: middle; margin-left: 0.5rem\">SIMPLE_CHEMICAL</span>\n",
       "</mark>\n",
       " </div></span>"
      ],
      "text/plain": [
       "<IPython.core.display.HTML object>"
      ]
     },
     "metadata": {},
     "output_type": "display_data"
    }
   ],
   "source": [
    "from spacy import displacy\n",
    "nlp = spacy.load(\"en_ner_bionlp13cg_md\")\n",
    "doc = nlp(text_test)\n",
    "displacy.render(doc, style=\"ent\", options=get_entity_options(random_colors=True))"
   ]
  },
  {
   "cell_type": "markdown",
   "metadata": {},
   "source": [
    "## Lets apply the NER model to the Abstract's and output that to a dataframe that is ready for import into Neo4j as node's"
   ]
  },
  {
   "cell_type": "code",
   "execution_count": 36,
   "metadata": {
    "ExecuteTime": {
     "end_time": "2020-04-24T17:33:49.553423Z",
     "start_time": "2020-04-24T17:33:49.516421Z"
    }
   },
   "outputs": [
    {
     "name": "stderr",
     "output_type": "stream",
     "text": [
      "100%|████████████████████████████████████████████████████| 3/3 [00:00<00:00, 103.41it/s]\n"
     ]
    }
   ],
   "source": [
    "getattr(tqdm, '_instances', {}).clear()  # ⬅ clear the progress\n",
    "spacy.prefer_gpu()\n",
    "entities=[]\n",
    "for i in tqdm(df['Abstract'].tolist()):\n",
    "    doc = nlp(i)\n",
    "    for entity in doc.ents:\n",
    "        entities.append((i, entity.text, entity.label_, df.uuid))"
   ]
  },
  {
   "cell_type": "code",
   "execution_count": 37,
   "metadata": {
    "ExecuteTime": {
     "end_time": "2020-04-24T17:33:49.974006Z",
     "start_time": "2020-04-24T17:33:49.965030Z"
    }
   },
   "outputs": [
    {
     "name": "stdout",
     "output_type": "stream",
     "text": [
      "[('this is an abstract talking about COVID-19', 'COVID-19', 'SIMPLE_CHEMICAL', 0    e7fc8254-8645-11ea-8099-104a7d4533bd\n",
      "2    e7fc8255-8645-11ea-ac58-104a7d4533bd\n",
      "3    e7fc8256-8645-11ea-85f5-104a7d4533bd\n",
      "Name: uuid, dtype: object), ('here is another abstract COVID-19 and the ACE2 gene', 'COVID-19', 'GENE_OR_GENE_PRODUCT', 0    e7fc8254-8645-11ea-8099-104a7d4533bd\n",
      "2    e7fc8255-8645-11ea-ac58-104a7d4533bd\n",
      "3    e7fc8256-8645-11ea-85f5-104a7d4533bd\n",
      "Name: uuid, dtype: object), ('here is another abstract COVID-19 and the ACE2 gene', 'ACE2', 'GENE_OR_GENE_PRODUCT', 0    e7fc8254-8645-11ea-8099-104a7d4533bd\n",
      "2    e7fc8255-8645-11ea-ac58-104a7d4533bd\n",
      "3    e7fc8256-8645-11ea-85f5-104a7d4533bd\n",
      "Name: uuid, dtype: object), ('finally, the last abstract talking about liver, lung, ACE2, heart', 'liver', 'ORGAN', 0    e7fc8254-8645-11ea-8099-104a7d4533bd\n",
      "2    e7fc8255-8645-11ea-ac58-104a7d4533bd\n",
      "3    e7fc8256-8645-11ea-85f5-104a7d4533bd\n",
      "Name: uuid, dtype: object), ('finally, the last abstract talking about liver, lung, ACE2, heart', 'lung', 'ORGAN', 0    e7fc8254-8645-11ea-8099-104a7d4533bd\n",
      "2    e7fc8255-8645-11ea-ac58-104a7d4533bd\n",
      "3    e7fc8256-8645-11ea-85f5-104a7d4533bd\n",
      "Name: uuid, dtype: object), ('finally, the last abstract talking about liver, lung, ACE2, heart', 'ACE2', 'GENE_OR_GENE_PRODUCT', 0    e7fc8254-8645-11ea-8099-104a7d4533bd\n",
      "2    e7fc8255-8645-11ea-ac58-104a7d4533bd\n",
      "3    e7fc8256-8645-11ea-85f5-104a7d4533bd\n",
      "Name: uuid, dtype: object), ('finally, the last abstract talking about liver, lung, ACE2, heart', 'heart', 'ORGAN', 0    e7fc8254-8645-11ea-8099-104a7d4533bd\n",
      "2    e7fc8255-8645-11ea-ac58-104a7d4533bd\n",
      "3    e7fc8256-8645-11ea-85f5-104a7d4533bd\n",
      "Name: uuid, dtype: object)]\n"
     ]
    }
   ],
   "source": [
    "print(entities)"
   ]
  },
  {
   "cell_type": "code",
   "execution_count": 38,
   "metadata": {
    "ExecuteTime": {
     "end_time": "2020-04-24T17:33:50.601925Z",
     "start_time": "2020-04-24T17:33:50.596925Z"
    }
   },
   "outputs": [],
   "source": [
    "df_ner = pd.DataFrame.from_records(entities, columns =[\"Abstract\",'ent_name', 'ent_type','uuid'])"
   ]
  },
  {
   "cell_type": "code",
   "execution_count": null,
   "metadata": {
    "ExecuteTime": {
     "end_time": "2020-04-24T02:23:44.341221Z",
     "start_time": "2020-04-24T02:23:44.322239Z"
    }
   },
   "outputs": [],
   "source": []
  },
  {
   "cell_type": "code",
   "execution_count": null,
   "metadata": {
    "ExecuteTime": {
     "end_time": "2020-04-24T02:21:42.721572Z",
     "start_time": "2020-04-24T02:21:42.697573Z"
    }
   },
   "outputs": [],
   "source": []
  },
  {
   "cell_type": "code",
   "execution_count": 39,
   "metadata": {
    "ExecuteTime": {
     "end_time": "2020-04-24T17:33:51.994406Z",
     "start_time": "2020-04-24T17:33:51.981396Z"
    }
   },
   "outputs": [],
   "source": [
    "df_ner.to_csv(\"ner_out_uuid.csv\", sep=',',index=False)"
   ]
  },
  {
   "cell_type": "markdown",
   "metadata": {},
   "source": [
    "## ToDo"
   ]
  },
  {
   "cell_type": "markdown",
   "metadata": {},
   "source": [
    "1. Add UUID to all abstracts-DONE\n",
    "2. Add UUID to entity output for matching later\n",
    "3. Filter entities so if it appears more than once it only shows up in output\n",
    "4. For filtered entities, keep a count of the number of times it was mentioned\n",
    "5. Extract the authors individually \n",
    "5a. In some Journals, the author named first is primary but in other journals it is the last author\n",
    "6. See if we can find if that author is cited in the article"
   ]
  },
  {
   "cell_type": "code",
   "execution_count": null,
   "metadata": {},
   "outputs": [],
   "source": []
  },
  {
   "cell_type": "code",
   "execution_count": null,
   "metadata": {},
   "outputs": [],
   "source": []
  }
 ],
 "metadata": {
  "kernelspec": {
   "display_name": "Python 3",
   "language": "python",
   "name": "python3"
  },
  "language_info": {
   "codemirror_mode": {
    "name": "ipython",
    "version": 3
   },
   "file_extension": ".py",
   "mimetype": "text/x-python",
   "name": "python",
   "nbconvert_exporter": "python",
   "pygments_lexer": "ipython3",
   "version": "3.7.4"
  },
  "toc": {
   "base_numbering": 1,
   "nav_menu": {},
   "number_sections": true,
   "sideBar": true,
   "skip_h1_title": false,
   "title_cell": "Table of Contents",
   "title_sidebar": "Contents",
   "toc_cell": false,
   "toc_position": {},
   "toc_section_display": true,
   "toc_window_display": false
  }
 },
 "nbformat": 4,
 "nbformat_minor": 2
}
