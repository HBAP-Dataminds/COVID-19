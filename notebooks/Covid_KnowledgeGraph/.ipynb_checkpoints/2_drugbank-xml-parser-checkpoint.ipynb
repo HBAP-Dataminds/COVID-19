{
 "cells": [
  {
   "cell_type": "code",
   "execution_count": 21,
   "metadata": {
    "ExecuteTime": {
     "end_time": "2020-04-29T15:37:29.976111Z",
     "start_time": "2020-04-29T15:37:29.303850Z"
    }
   },
   "outputs": [],
   "source": [
    "import xml.etree.ElementTree as etree\n",
    "import pandas as pd\n",
    "from tqdm import tqdm\n"
   ]
  },
  {
   "cell_type": "code",
   "execution_count": null,
   "metadata": {},
   "outputs": [],
   "source": [
    "xml_data = r\"D:\\GraphDB\\corona\\drugbank_all_full_database\\full database.xml\""
   ]
  },
  {
   "cell_type": "code",
   "execution_count": 2,
   "metadata": {
    "ExecuteTime": {
     "end_time": "2020-04-29T15:38:31.719637Z",
     "start_time": "2020-04-29T15:37:32.022623Z"
    }
   },
   "outputs": [],
   "source": [
    "tree = etree.parse(fname)"
   ]
  },
  {
   "cell_type": "code",
   "execution_count": 3,
   "metadata": {
    "ExecuteTime": {
     "end_time": "2020-04-29T15:38:31.735726Z",
     "start_time": "2020-04-29T15:38:31.721630Z"
    }
   },
   "outputs": [
    {
     "name": "stderr",
     "output_type": "stream",
     "text": [
      "C:\\ProgramData\\Anaconda3\\lib\\site-packages\\ipykernel_launcher.py:2: DeprecationWarning: This method will be removed in future versions.  Use 'list(elem)' or iteration over elem instead.\n",
      "  \n"
     ]
    },
    {
     "data": {
      "text/plain": [
       "13563"
      ]
     },
     "execution_count": 3,
     "metadata": {},
     "output_type": "execute_result"
    }
   ],
   "source": [
    "root = tree.getroot()\n",
    "len(root.getchildren())"
   ]
  },
  {
   "cell_type": "code",
   "execution_count": 15,
   "metadata": {
    "ExecuteTime": {
     "end_time": "2020-04-29T15:38:38.815905Z",
     "start_time": "2020-04-29T15:38:37.988916Z"
    }
   },
   "outputs": [
    {
     "data": {
      "text/html": [
       "<div>\n",
       "<style scoped>\n",
       "    .dataframe tbody tr th:only-of-type {\n",
       "        vertical-align: middle;\n",
       "    }\n",
       "\n",
       "    .dataframe tbody tr th {\n",
       "        vertical-align: top;\n",
       "    }\n",
       "\n",
       "    .dataframe thead th {\n",
       "        text-align: right;\n",
       "    }\n",
       "</style>\n",
       "<table border=\"1\" class=\"dataframe\">\n",
       "  <thead>\n",
       "    <tr style=\"text-align: right;\">\n",
       "      <th></th>\n",
       "      <th>type</th>\n",
       "      <th>created</th>\n",
       "      <th>updated</th>\n",
       "      <th>drugbank-id</th>\n",
       "      <th>name</th>\n",
       "      <th>description</th>\n",
       "      <th>cas-number</th>\n",
       "      <th>unii</th>\n",
       "      <th>state</th>\n",
       "      <th>groups</th>\n",
       "      <th>...</th>\n",
       "      <th>reactions</th>\n",
       "      <th>snp-effects</th>\n",
       "      <th>snp-adverse-drug-reactions</th>\n",
       "      <th>targets</th>\n",
       "      <th>enzymes</th>\n",
       "      <th>carriers</th>\n",
       "      <th>transporters</th>\n",
       "      <th>average-mass</th>\n",
       "      <th>monoisotopic-mass</th>\n",
       "      <th>calculated-properties</th>\n",
       "    </tr>\n",
       "  </thead>\n",
       "  <tbody>\n",
       "    <tr>\n",
       "      <th>0</th>\n",
       "      <td>biotech</td>\n",
       "      <td>2005-06-13</td>\n",
       "      <td>2020-04-02</td>\n",
       "      <td>BIOD00024</td>\n",
       "      <td>Lepirudin</td>\n",
       "      <td>Lepirudin is identical to natural hirudin exce...</td>\n",
       "      <td>138068-37-8</td>\n",
       "      <td>Y43GF64R34</td>\n",
       "      <td>liquid</td>\n",
       "      <td>\\n</td>\n",
       "      <td>...</td>\n",
       "      <td>None</td>\n",
       "      <td>None</td>\n",
       "      <td>None</td>\n",
       "      <td>\\n</td>\n",
       "      <td>None</td>\n",
       "      <td>None</td>\n",
       "      <td>None</td>\n",
       "      <td>NaN</td>\n",
       "      <td>NaN</td>\n",
       "      <td>NaN</td>\n",
       "    </tr>\n",
       "    <tr>\n",
       "      <th>1</th>\n",
       "      <td>biotech</td>\n",
       "      <td>2005-06-13</td>\n",
       "      <td>2020-04-22</td>\n",
       "      <td>BIOD00071</td>\n",
       "      <td>Cetuximab</td>\n",
       "      <td>Cetuximab is an epidermal growth factor recept...</td>\n",
       "      <td>205923-56-4</td>\n",
       "      <td>PQX0D8J21J</td>\n",
       "      <td>liquid</td>\n",
       "      <td>\\n</td>\n",
       "      <td>...</td>\n",
       "      <td>None</td>\n",
       "      <td>\\n</td>\n",
       "      <td>None</td>\n",
       "      <td>\\n</td>\n",
       "      <td>None</td>\n",
       "      <td>None</td>\n",
       "      <td>None</td>\n",
       "      <td>NaN</td>\n",
       "      <td>NaN</td>\n",
       "      <td>NaN</td>\n",
       "    </tr>\n",
       "    <tr>\n",
       "      <th>2</th>\n",
       "      <td>biotech</td>\n",
       "      <td>2005-06-13</td>\n",
       "      <td>2020-04-22</td>\n",
       "      <td>BIOD00001</td>\n",
       "      <td>Dornase alfa</td>\n",
       "      <td>Dornase alfa is a biosynthetic form of human d...</td>\n",
       "      <td>143831-71-4</td>\n",
       "      <td>953A26OA1Y</td>\n",
       "      <td>liquid</td>\n",
       "      <td>\\n</td>\n",
       "      <td>...</td>\n",
       "      <td>None</td>\n",
       "      <td>None</td>\n",
       "      <td>None</td>\n",
       "      <td>\\n</td>\n",
       "      <td>None</td>\n",
       "      <td>None</td>\n",
       "      <td>None</td>\n",
       "      <td>NaN</td>\n",
       "      <td>NaN</td>\n",
       "      <td>NaN</td>\n",
       "    </tr>\n",
       "    <tr>\n",
       "      <th>3</th>\n",
       "      <td>biotech</td>\n",
       "      <td>2005-06-13</td>\n",
       "      <td>2020-04-04</td>\n",
       "      <td>BIOD00084</td>\n",
       "      <td>Denileukin diftitox</td>\n",
       "      <td>A recombinant DNA-derived cytotoxic protein co...</td>\n",
       "      <td>173146-27-5</td>\n",
       "      <td>25E79B5CTM</td>\n",
       "      <td>liquid</td>\n",
       "      <td>\\n</td>\n",
       "      <td>...</td>\n",
       "      <td>None</td>\n",
       "      <td>None</td>\n",
       "      <td>None</td>\n",
       "      <td>\\n</td>\n",
       "      <td>None</td>\n",
       "      <td>None</td>\n",
       "      <td>None</td>\n",
       "      <td>NaN</td>\n",
       "      <td>NaN</td>\n",
       "      <td>NaN</td>\n",
       "    </tr>\n",
       "    <tr>\n",
       "      <th>4</th>\n",
       "      <td>biotech</td>\n",
       "      <td>2005-06-13</td>\n",
       "      <td>2020-04-22</td>\n",
       "      <td>BIOD00052</td>\n",
       "      <td>Etanercept</td>\n",
       "      <td>Dimeric fusion protein consisting of the extra...</td>\n",
       "      <td>185243-69-0</td>\n",
       "      <td>OP401G7OJC</td>\n",
       "      <td>liquid</td>\n",
       "      <td>\\n</td>\n",
       "      <td>...</td>\n",
       "      <td>None</td>\n",
       "      <td>None</td>\n",
       "      <td>None</td>\n",
       "      <td>\\n</td>\n",
       "      <td>None</td>\n",
       "      <td>None</td>\n",
       "      <td>None</td>\n",
       "      <td>NaN</td>\n",
       "      <td>NaN</td>\n",
       "      <td>NaN</td>\n",
       "    </tr>\n",
       "  </tbody>\n",
       "</table>\n",
       "<p>5 rows × 58 columns</p>\n",
       "</div>"
      ],
      "text/plain": [
       "      type     created     updated drugbank-id                 name  \\\n",
       "0  biotech  2005-06-13  2020-04-02   BIOD00024            Lepirudin   \n",
       "1  biotech  2005-06-13  2020-04-22   BIOD00071            Cetuximab   \n",
       "2  biotech  2005-06-13  2020-04-22   BIOD00001         Dornase alfa   \n",
       "3  biotech  2005-06-13  2020-04-04   BIOD00084  Denileukin diftitox   \n",
       "4  biotech  2005-06-13  2020-04-22   BIOD00052           Etanercept   \n",
       "\n",
       "                                         description   cas-number        unii  \\\n",
       "0  Lepirudin is identical to natural hirudin exce...  138068-37-8  Y43GF64R34   \n",
       "1  Cetuximab is an epidermal growth factor recept...  205923-56-4  PQX0D8J21J   \n",
       "2  Dornase alfa is a biosynthetic form of human d...  143831-71-4  953A26OA1Y   \n",
       "3  A recombinant DNA-derived cytotoxic protein co...  173146-27-5  25E79B5CTM   \n",
       "4  Dimeric fusion protein consisting of the extra...  185243-69-0  OP401G7OJC   \n",
       "\n",
       "    state  groups  ... reactions snp-effects snp-adverse-drug-reactions  \\\n",
       "0  liquid  \\n      ...      None        None                       None   \n",
       "1  liquid  \\n      ...      None      \\n                           None   \n",
       "2  liquid  \\n      ...      None        None                       None   \n",
       "3  liquid  \\n      ...      None        None                       None   \n",
       "4  liquid  \\n      ...      None        None                       None   \n",
       "\n",
       "  targets enzymes carriers transporters average-mass monoisotopic-mass  \\\n",
       "0  \\n        None     None         None          NaN               NaN   \n",
       "1  \\n        None     None         None          NaN               NaN   \n",
       "2  \\n        None     None         None          NaN               NaN   \n",
       "3  \\n        None     None         None          NaN               NaN   \n",
       "4  \\n        None     None         None          NaN               NaN   \n",
       "\n",
       "  calculated-properties  \n",
       "0                   NaN  \n",
       "1                   NaN  \n",
       "2                   NaN  \n",
       "3                   NaN  \n",
       "4                   NaN  \n",
       "\n",
       "[5 rows x 58 columns]"
      ]
     },
     "execution_count": 15,
     "metadata": {},
     "output_type": "execute_result"
    }
   ],
   "source": [
    "tags = {\"tags\":[]}\n",
    "for drug in root:\n",
    "    tag = {}  \n",
    "    tag[\"type\"] = drug.attrib['type']\n",
    "    tag[\"created\"] = drug.attrib['created']\n",
    "    tag[\"updated\"] = drug.attrib['updated']\n",
    "    for  k in list(drug):\n",
    "        tag_name = k.tag.split('}')[1]\n",
    "        tag[tag_name]= k.text\n",
    "    tags[\"tags\"]. append(tag)    \n",
    "df_drugs = pd.DataFrame(tags[\"tags\"])\n",
    "df_drugs.head()"
   ]
  },
  {
   "cell_type": "code",
   "execution_count": 5,
   "metadata": {},
   "outputs": [
    {
     "data": {
      "text/plain": [
       "(13563, 58)"
      ]
     },
     "execution_count": 5,
     "metadata": {},
     "output_type": "execute_result"
    }
   ],
   "source": [
    "df_drugs.shape"
   ]
  },
  {
   "cell_type": "code",
   "execution_count": 6,
   "metadata": {
    "ExecuteTime": {
     "end_time": "2020-04-29T15:41:36.460940Z",
     "start_time": "2020-04-29T15:41:36.452960Z"
    }
   },
   "outputs": [
    {
     "data": {
      "text/plain": [
       "type                          object\n",
       "created                       object\n",
       "updated                       object\n",
       "drugbank-id                   object\n",
       "name                          object\n",
       "description                   object\n",
       "cas-number                    object\n",
       "unii                          object\n",
       "state                         object\n",
       "groups                        object\n",
       "general-references            object\n",
       "synthesis-reference           object\n",
       "indication                    object\n",
       "pharmacodynamics              object\n",
       "mechanism-of-action           object\n",
       "toxicity                      object\n",
       "metabolism                    object\n",
       "absorption                    object\n",
       "half-life                     object\n",
       "protein-binding               object\n",
       "route-of-elimination          object\n",
       "volume-of-distribution        object\n",
       "clearance                     object\n",
       "classification                object\n",
       "salts                         object\n",
       "synonyms                      object\n",
       "products                      object\n",
       "international-brands          object\n",
       "mixtures                      object\n",
       "packagers                     object\n",
       "manufacturers                 object\n",
       "prices                        object\n",
       "categories                    object\n",
       "affected-organisms            object\n",
       "dosages                       object\n",
       "atc-codes                     object\n",
       "ahfs-codes                    object\n",
       "pdb-entries                   object\n",
       "fda-label                     object\n",
       "msds                          object\n",
       "patents                       object\n",
       "food-interactions             object\n",
       "drug-interactions             object\n",
       "sequences                     object\n",
       "experimental-properties       object\n",
       "external-identifiers          object\n",
       "external-links                object\n",
       "pathways                      object\n",
       "reactions                     object\n",
       "snp-effects                   object\n",
       "snp-adverse-drug-reactions    object\n",
       "targets                       object\n",
       "enzymes                       object\n",
       "carriers                      object\n",
       "transporters                  object\n",
       "average-mass                  object\n",
       "monoisotopic-mass             object\n",
       "calculated-properties         object\n",
       "dtype: object"
      ]
     },
     "execution_count": 6,
     "metadata": {},
     "output_type": "execute_result"
    }
   ],
   "source": [
    "df_drugs.dtypes"
   ]
  },
  {
   "cell_type": "code",
   "execution_count": 12,
   "metadata": {
    "ExecuteTime": {
     "end_time": "2020-04-29T16:05:58.272905Z",
     "start_time": "2020-04-29T16:05:58.247902Z"
    }
   },
   "outputs": [
    {
     "data": {
      "text/plain": [
       "array(['\\n    ', None], dtype=object)"
      ]
     },
     "execution_count": 12,
     "metadata": {},
     "output_type": "execute_result"
    }
   ],
   "source": [
    "df_drugs['drug-interactions'].explode().unique() "
   ]
  },
  {
   "cell_type": "code",
   "execution_count": null,
   "metadata": {
    "ExecuteTime": {
     "end_time": "2020-04-29T16:00:23.676979Z",
     "start_time": "2020-04-29T16:00:23.619429Z"
    }
   },
   "outputs": [],
   "source": [
    "import numpy as np\n",
    "drugbank = etree.parse(fname)\n",
    "root = drugbank.getroot()\n",
    "ns = {'db': 'http://www.drugbank.ca'}\n",
    "drugs=[]\n",
    "for drug in tqdm(root.findall(\"db:drug[db:groups/db:group='approved']\", namespaces=ns)):\n",
    "    drugName = drug.find(\"db:name\", ns).text\n",
    "    drugbank_id = drug.find(\"db:drugbank-id[@primary='true']\", ns).text\n",
    "    drugDescription = drug.find(\"db:description\", ns).text\n",
    "    drugs.append([drugName])"
   ]
  },
  {
   "cell_type": "code",
   "execution_count": null,
   "metadata": {
    "ExecuteTime": {
     "end_time": "2020-04-29T15:57:32.527784Z",
     "start_time": "2020-04-29T15:57:31.228704Z"
    }
   },
   "outputs": [],
   "source": [
    "import xml.etree.ElementTree as ET\n",
    "import pandas as pd\n",
    "class XML2DataFrame:\n",
    "\n",
    "    def __init__(self, xml_data):\n",
    "        self.root = ET.XML(xml_data)\n",
    "\n",
    "    def parse_root(self, root):\n",
    "        \"\"\"Return a list of dictionaries from the text and attributes of the\n",
    "        children under this XML root.\"\"\"\n",
    "        return [parse_element(child) for child in root.getchildren()]\n",
    "\n",
    "    def parse_element(self, element, parsed=None):\n",
    "        \"\"\" Collect {key:attribute} and {tag:text} from thie XML\n",
    "         element and all its children into a single dictionary of strings.\"\"\"\n",
    "        if parsed is None:\n",
    "            parsed = dict()\n",
    "\n",
    "        for key in element.keys():\n",
    "            if key not in parsed:\n",
    "                parsed[key] = element.attrib.get(key)\n",
    "            if element.text:\n",
    "                parsed[element.tag] = element.text                \n",
    "            else:\n",
    "                raise ValueError('duplicate attribute {0} at element {1}'.format(key, element.getroottree().getpath(element)))           \n",
    "\n",
    "        \"\"\" Apply recursion\"\"\"\n",
    "        for child in list(element):\n",
    "            self.parse_element(child, parsed)\n",
    "        return parsed\n",
    "\n",
    "    def process_data(self):\n",
    "        \"\"\" Initiate the root XML, parse it, and return a dataframe\"\"\"\n",
    "        structure_data = self.parse_root(self.root)\n",
    "        return pd.DataFrame(structure_data)\n",
    "\n",
    "xml2df = XML2DataFrame(xml_data)\n",
    "xml_dataframe = xml2df.process_data()"
   ]
  },
  {
   "cell_type": "code",
   "execution_count": 56,
   "metadata": {},
   "outputs": [],
   "source": [
    "df_drugs.to_csv(\"drugs.csv\", index=False)"
   ]
  },
  {
   "cell_type": "markdown",
   "metadata": {},
   "source": [
    "###. References\n",
    "\n",
    "https://docs.python.org/2/library/xml.etree.elementtree.html#xml.etree.ElementTree.Element"
   ]
  }
 ],
 "metadata": {
  "kernelspec": {
   "display_name": "Python 3",
   "language": "python",
   "name": "python3"
  },
  "language_info": {
   "codemirror_mode": {
    "name": "ipython",
    "version": 3
   },
   "file_extension": ".py",
   "mimetype": "text/x-python",
   "name": "python",
   "nbconvert_exporter": "python",
   "pygments_lexer": "ipython3",
   "version": "3.7.7"
  },
  "toc": {
   "base_numbering": 1,
   "nav_menu": {},
   "number_sections": true,
   "sideBar": true,
   "skip_h1_title": false,
   "title_cell": "Table of Contents",
   "title_sidebar": "Contents",
   "toc_cell": false,
   "toc_position": {},
   "toc_section_display": true,
   "toc_window_display": false
  }
 },
 "nbformat": 4,
 "nbformat_minor": 2
}
