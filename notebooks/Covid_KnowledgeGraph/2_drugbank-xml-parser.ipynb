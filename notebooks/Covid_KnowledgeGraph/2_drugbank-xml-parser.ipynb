{
 "cells": [
  {
   "cell_type": "code",
   "execution_count": 2,
   "metadata": {
    "ExecuteTime": {
     "end_time": "2020-04-29T15:37:29.976111Z",
     "start_time": "2020-04-29T15:37:29.303850Z"
    }
   },
   "outputs": [],
   "source": [
    "import xml.etree.ElementTree as etree\n",
    "import pandas as pd\n",
    "from tqdm import tqdm\n"
   ]
  },
  {
   "cell_type": "code",
   "execution_count": 14,
   "metadata": {},
   "outputs": [],
   "source": [
    "xml_data = r\"D:/GraphDB/corona/drugbank_all_full_database/single_drug.xml\""
   ]
  },
  {
   "cell_type": "code",
   "execution_count": 15,
   "metadata": {
    "ExecuteTime": {
     "end_time": "2020-04-29T15:38:31.719637Z",
     "start_time": "2020-04-29T15:37:32.022623Z"
    }
   },
   "outputs": [],
   "source": [
    "tree = etree.parse(xml_data)"
   ]
  },
  {
   "cell_type": "code",
   "execution_count": 16,
   "metadata": {
    "ExecuteTime": {
     "end_time": "2020-04-29T15:38:31.735726Z",
     "start_time": "2020-04-29T15:38:31.721630Z"
    }
   },
   "outputs": [
    {
     "name": "stderr",
     "output_type": "stream",
     "text": [
      "C:\\ProgramData\\Anaconda3\\lib\\site-packages\\ipykernel_launcher.py:2: DeprecationWarning: This method will be removed in future versions.  Use 'list(elem)' or iteration over elem instead.\n",
      "  \n"
     ]
    },
    {
     "data": {
      "text/plain": [
       "1"
      ]
     },
     "execution_count": 16,
     "metadata": {},
     "output_type": "execute_result"
    }
   ],
   "source": [
    "root = tree.getroot()\n",
    "len(root.getchildren())"
   ]
  },
  {
   "cell_type": "code",
   "execution_count": 17,
   "metadata": {
    "ExecuteTime": {
     "end_time": "2020-04-29T15:38:38.815905Z",
     "start_time": "2020-04-29T15:38:37.988916Z"
    }
   },
   "outputs": [
    {
     "data": {
      "text/html": [
       "<div>\n",
       "<style scoped>\n",
       "    .dataframe tbody tr th:only-of-type {\n",
       "        vertical-align: middle;\n",
       "    }\n",
       "\n",
       "    .dataframe tbody tr th {\n",
       "        vertical-align: top;\n",
       "    }\n",
       "\n",
       "    .dataframe thead th {\n",
       "        text-align: right;\n",
       "    }\n",
       "</style>\n",
       "<table border=\"1\" class=\"dataframe\">\n",
       "  <thead>\n",
       "    <tr style=\"text-align: right;\">\n",
       "      <th></th>\n",
       "      <th>type</th>\n",
       "      <th>created</th>\n",
       "      <th>updated</th>\n",
       "      <th>drugbank-id</th>\n",
       "      <th>name</th>\n",
       "      <th>description</th>\n",
       "      <th>cas-number</th>\n",
       "      <th>unii</th>\n",
       "      <th>state</th>\n",
       "      <th>groups</th>\n",
       "      <th>...</th>\n",
       "      <th>external-identifiers</th>\n",
       "      <th>external-links</th>\n",
       "      <th>pathways</th>\n",
       "      <th>reactions</th>\n",
       "      <th>snp-effects</th>\n",
       "      <th>snp-adverse-drug-reactions</th>\n",
       "      <th>targets</th>\n",
       "      <th>enzymes</th>\n",
       "      <th>carriers</th>\n",
       "      <th>transporters</th>\n",
       "    </tr>\n",
       "  </thead>\n",
       "  <tbody>\n",
       "    <tr>\n",
       "      <th>0</th>\n",
       "      <td>biotech</td>\n",
       "      <td>2005-06-13</td>\n",
       "      <td>2020-04-02</td>\n",
       "      <td>BIOD00024</td>\n",
       "      <td>Lepirudin</td>\n",
       "      <td>Lepirudin is identical to natural hirudin exce...</td>\n",
       "      <td>138068-37-8</td>\n",
       "      <td>Y43GF64R34</td>\n",
       "      <td>liquid</td>\n",
       "      <td>\\n</td>\n",
       "      <td>...</td>\n",
       "      <td>\\n</td>\n",
       "      <td>\\n</td>\n",
       "      <td>\\n</td>\n",
       "      <td>None</td>\n",
       "      <td>None</td>\n",
       "      <td>None</td>\n",
       "      <td>\\n</td>\n",
       "      <td>None</td>\n",
       "      <td>None</td>\n",
       "      <td>None</td>\n",
       "    </tr>\n",
       "  </tbody>\n",
       "</table>\n",
       "<p>1 rows × 55 columns</p>\n",
       "</div>"
      ],
      "text/plain": [
       "      type     created     updated drugbank-id       name  \\\n",
       "0  biotech  2005-06-13  2020-04-02   BIOD00024  Lepirudin   \n",
       "\n",
       "                                         description   cas-number        unii  \\\n",
       "0  Lepirudin is identical to natural hirudin exce...  138068-37-8  Y43GF64R34   \n",
       "\n",
       "    state  groups  ... external-identifiers external-links pathways reactions  \\\n",
       "0  liquid  \\n      ...               \\n             \\n       \\n          None   \n",
       "\n",
       "  snp-effects snp-adverse-drug-reactions targets enzymes carriers transporters  \n",
       "0        None                       None  \\n        None     None         None  \n",
       "\n",
       "[1 rows x 55 columns]"
      ]
     },
     "execution_count": 17,
     "metadata": {},
     "output_type": "execute_result"
    }
   ],
   "source": [
    "tags = {\"tags\":[]}\n",
    "for drug in root:\n",
    "    tag = {}  \n",
    "    tag[\"type\"] = drug.attrib['type']\n",
    "    tag[\"created\"] = drug.attrib['created']\n",
    "    tag[\"updated\"] = drug.attrib['updated']\n",
    "    for  k in list(drug):\n",
    "        tag_name = k.tag.split('}')[1]\n",
    "        tag[tag_name]= k.text\n",
    "    tags[\"tags\"]. append(tag)    \n",
    "df_drugs = pd.DataFrame(tags[\"tags\"])\n",
    "df_drugs.head()"
   ]
  },
  {
   "cell_type": "code",
   "execution_count": null,
   "metadata": {},
   "outputs": [],
   "source": [
    "df_drugs.shape"
   ]
  },
  {
   "cell_type": "code",
   "execution_count": null,
   "metadata": {
    "ExecuteTime": {
     "end_time": "2020-04-29T15:41:36.460940Z",
     "start_time": "2020-04-29T15:41:36.452960Z"
    }
   },
   "outputs": [],
   "source": [
    "df_drugs.dtypes"
   ]
  },
  {
   "cell_type": "code",
   "execution_count": null,
   "metadata": {
    "ExecuteTime": {
     "end_time": "2020-04-29T16:05:58.272905Z",
     "start_time": "2020-04-29T16:05:58.247902Z"
    }
   },
   "outputs": [],
   "source": [
    "df_drugs['drug-interactions'].explode().unique() "
   ]
  },
  {
   "cell_type": "code",
   "execution_count": 21,
   "metadata": {
    "ExecuteTime": {
     "end_time": "2020-04-29T16:00:23.676979Z",
     "start_time": "2020-04-29T16:00:23.619429Z"
    }
   },
   "outputs": [
    {
     "ename": "SyntaxError",
     "evalue": "invalid predicate (<string>)",
     "output_type": "error",
     "traceback": [
      "Traceback \u001b[1;36m(most recent call last)\u001b[0m:\n",
      "\u001b[1;36m  File \u001b[1;32m\"C:\\ProgramData\\Anaconda3\\lib\\xml\\etree\\ElementPath.py\"\u001b[1;36m, line \u001b[1;32m272\u001b[1;36m, in \u001b[1;35miterfind\u001b[1;36m\u001b[0m\n\u001b[1;33m    selector = _cache[cache_key]\u001b[0m\n",
      "\u001b[1;31mKeyError\u001b[0m\u001b[1;31m:\u001b[0m (\"db:drug[db:groups/db:group='approved']\", (('db', 'http://www.drugbank.ca'),))\n",
      "\nDuring handling of the above exception, another exception occurred:\n",
      "Traceback \u001b[1;36m(most recent call last)\u001b[0m:\n",
      "  File \u001b[0;32m\"C:\\ProgramData\\Anaconda3\\lib\\site-packages\\IPython\\core\\interactiveshell.py\"\u001b[0m, line \u001b[0;32m3331\u001b[0m, in \u001b[0;35mrun_code\u001b[0m\n    exec(code_obj, self.user_global_ns, self.user_ns)\n",
      "  File \u001b[0;32m\"<ipython-input-21-53db18f92d14>\"\u001b[0m, line \u001b[0;32m6\u001b[0m, in \u001b[0;35m<module>\u001b[0m\n    for drug in tqdm(root.findall(\"db:drug[db:groups/db:group='approved']\", namespaces=ns)):\n",
      "  File \u001b[0;32m\"C:\\ProgramData\\Anaconda3\\lib\\xml\\etree\\ElementPath.py\"\u001b[0m, line \u001b[0;32m313\u001b[0m, in \u001b[0;35mfindall\u001b[0m\n    return list(iterfind(elem, path, namespaces))\n",
      "  File \u001b[0;32m\"C:\\ProgramData\\Anaconda3\\lib\\xml\\etree\\ElementPath.py\"\u001b[0m, line \u001b[0;32m286\u001b[0m, in \u001b[0;35miterfind\u001b[0m\n    selector.append(ops[token[0]](next, token))\n",
      "\u001b[1;36m  File \u001b[1;32m\"C:\\ProgramData\\Anaconda3\\lib\\xml\\etree\\ElementPath.py\"\u001b[1;36m, line \u001b[1;32m242\u001b[1;36m, in \u001b[1;35mprepare_predicate\u001b[1;36m\u001b[0m\n\u001b[1;33m    raise SyntaxError(\"invalid predicate\")\u001b[0m\n",
      "\u001b[1;36m  File \u001b[1;32m\"<string>\"\u001b[1;36m, line \u001b[1;32munknown\u001b[0m\n\u001b[1;31mSyntaxError\u001b[0m\u001b[1;31m:\u001b[0m invalid predicate\n"
     ]
    }
   ],
   "source": [
    "for drug in tqdm(root.xpath(\"db:drug[db:groups/db:group='approved']\", namespaces=ns)):\n",
    "    drugName = drug.find(\"db:name\", ns).text\n",
    "    drugbank_id = drug.find(\"db:drugbank-id[@primary='true']\", ns).text\n",
    "    drugDescription = drug.find(\"db:description\", ns).text"
   ]
  },
  {
   "cell_type": "code",
   "execution_count": null,
   "metadata": {
    "ExecuteTime": {
     "end_time": "2020-04-29T15:57:32.527784Z",
     "start_time": "2020-04-29T15:57:31.228704Z"
    }
   },
   "outputs": [],
   "source": []
  },
  {
   "cell_type": "code",
   "execution_count": null,
   "metadata": {},
   "outputs": [],
   "source": []
  },
  {
   "cell_type": "code",
   "execution_count": null,
   "metadata": {},
   "outputs": [],
   "source": [
    "df_drugs.to_csv(\"drugs.csv\", index=False)"
   ]
  },
  {
   "cell_type": "markdown",
   "metadata": {},
   "source": [
    "###. References\n",
    "\n",
    "https://docs.python.org/2/library/xml.etree.elementtree.html#xml.etree.ElementTree.Element"
   ]
  }
 ],
 "metadata": {
  "kernelspec": {
   "display_name": "Python 3",
   "language": "python",
   "name": "python3"
  },
  "language_info": {
   "codemirror_mode": {
    "name": "ipython",
    "version": 3
   },
   "file_extension": ".py",
   "mimetype": "text/x-python",
   "name": "python",
   "nbconvert_exporter": "python",
   "pygments_lexer": "ipython3",
   "version": "3.7.7"
  },
  "toc": {
   "base_numbering": 1,
   "nav_menu": {},
   "number_sections": true,
   "sideBar": true,
   "skip_h1_title": false,
   "title_cell": "Table of Contents",
   "title_sidebar": "Contents",
   "toc_cell": false,
   "toc_position": {},
   "toc_section_display": true,
   "toc_window_display": false
  }
 },
 "nbformat": 4,
 "nbformat_minor": 2
}
